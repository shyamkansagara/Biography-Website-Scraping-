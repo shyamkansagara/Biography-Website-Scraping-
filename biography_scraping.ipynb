{
  "nbformat": 4,
  "nbformat_minor": 0,
  "metadata": {
    "colab": {
      "provenance": [],
      "collapsed_sections": []
    },
    "kernelspec": {
      "name": "python3",
      "display_name": "Python 3"
    },
    "language_info": {
      "name": "python"
    }
  },
  "cells": [
    {
      "cell_type": "code",
      "execution_count": 1,
      "metadata": {
        "id": "ZSIPNz3hOhzw"
      },
      "outputs": [],
      "source": [
        "from bs4 import BeautifulSoup \n",
        "import requests "
      ]
    },
    {
      "cell_type": "code",
      "source": [
        "html_text= requests.get('https://www.biography.com/actor/michael-peña').text\n",
        "#print(html_text)"
      ],
      "metadata": {
        "id": "dv9IoRwMPaEZ"
      },
      "execution_count": 2,
      "outputs": []
    },
    {
      "cell_type": "code",
      "source": [
        "soup = BeautifulSoup(html_text , 'lxml')\n",
        "name = soup.find('h1', class_ = 'm-detail-header--title' ).text\n",
        "occupation = soup.find('div', class_ ='m-detail-header--person-occupations').text\n",
        "Published_Date = soup.find('div',class_ = 'm-detail-header--date m-detail-header--publication-date m-detail-header--meta-item m-description--details').text\n",
        "Abstract = soup.find('div' , class_ = 'm-person--abstract l-person--abstract').text\n",
        "print(\"Name: \",name)\n",
        "print(\"Published Date: \",Published_Date)\n",
        "print(\"Occupation: \",occupation)\n",
        "print(\"Abstract: \",Abstract)"
      ],
      "metadata": {
        "colab": {
          "base_uri": "https://localhost:8080/"
        },
        "id": "5LBm2ZA1QpSb",
        "outputId": "c6e05f71-9462-40c0-d924-140abe0a9669"
      },
      "execution_count": null,
      "outputs": [
        {
          "output_type": "stream",
          "name": "stdout",
          "text": [
            "Name:  Michael Peña\n",
            "Published Date:  Oct 18, 2022\n",
            "Occupation:  Actor (1976–)\n",
            "Abstract:  Mexican-American actor Michael Peña switches from comedy to drama with ease as one of Hollywood's best-known Latino performers with roles in 'End of Watch,' 'The Martian' and 'Ant-Man.'\n"
          ]
        }
      ]
    },
    {
      "cell_type": "code",
      "source": [
        "b = soup.find('section',class_=\"m-detail--body l-person--body\").find_all('h2')\n",
        "\n",
        "for i in range(len(b)):\n",
        "  if b[i].text == 'READ NEXT':\n",
        "    break\n",
        "  print(b[i].text) \n",
        "  print(b[i].find_next('p').text )\n",
        "  \n",
        " "
      ],
      "metadata": {
        "colab": {
          "base_uri": "https://localhost:8080/"
        },
        "id": "mIhrk2q4YXI6",
        "outputId": "a3e2e335-8404-4d59-98aa-d91aacc3051c"
      },
      "execution_count": null,
      "outputs": [
        {
          "output_type": "stream",
          "name": "stdout",
          "text": [
            "Who Is Michael Peña?\n",
            "Michael Peña is an actor whose resume ranges from superhero movies and action flicks to character studies and comedies. His projects include Crash (2004), World Trade Center (2006), End of Watch (2012), The Martian (2015) and Ant-Man (2015). As a child, he was influenced by Latino performers such as Erik Estrada, Edward James Olmos, Esai Morales and John Leguizamo. At the start of his acting career, Peña refused to change his name to more easily land roles. Hoping to inspire young Latinos, Peña has only portrayed characters with Latino names, asking some productions to rename his parts to accomplish this. Peña is a Scientologist, but prefers not to discuss his religion. He and his wife share a son.\n",
            "When Was Michael Peña Born?\n",
            "Michael Peña was born on January 13, 1976, in Chicago, Illinois. \n",
            "Early Life\n",
            "Peña's parents were farmers who immigrated to the United States from Mexico. Peña was just a year old when his parents were deported; they opted to leave him and his older brother with another family instead of taking them to Mexico. They were able to return to the United States after about six months, and the family reunited. His parents obtained their green cards when Peña was 12. His father worked in a factory, and his mother became a social worker.\n",
            "Education\n",
            "Peña initially attended Marist High School, but had to leave the Catholic institution after two years because his family couldn't pay the tuition. He graduated from Hubbard High School.\n",
            "Why Did Michael Peña Become an Actor?\n",
            "The mother of a friend encouraged a 19-year-old Peña to go to a casting call. This resulted in Peña becoming a featured extra in the television movie To Sir, With Love II (1996).\n",
            "From Struggling to Successful Actor\n",
            "After arriving in Los Angeles, Peña was cast in the movie My Fellow Americans (1996) and appeared on TV shows such as \"Felicity,\" \"Touched by an Angel,\" \"7th Heaven\" and \"Moesha.\" However, he struggled to find work at times and even had to live in a friend's van for a short period.\n"
          ]
        }
      ]
    },
    {
      "cell_type": "code",
      "source": [
        "a = soup.find('section',class_=\"m-detail--body l-person--body\").findChildren('h2')\n",
        "a1  = a[i].get('id')\n",
        "for i in range(len(a)):\n",
        "  print(a[i].get('id'))\n",
        "\n",
        "\n"
      ],
      "metadata": {
        "colab": {
          "base_uri": "https://localhost:8080/"
        },
        "id": "yOhMqHZmbhkC",
        "outputId": "baa69f0d-97ea-4d1f-b4d1-45aa493e3293"
      },
      "execution_count": null,
      "outputs": [
        {
          "output_type": "stream",
          "name": "stdout",
          "text": [
            "who-is-michael-pe-a\n",
            "when-was-michael-pe-a-born\n",
            "early-life\n",
            "education\n",
            "why-did-michael-pe-a-become-an-actor\n",
            "from-struggling-to-successful-actor\n",
            "None\n",
            "None\n",
            "None\n",
            "None\n",
            "movies-and-tv-shows\n",
            "family\n",
            "personal-life\n"
          ]
        }
      ]
    },
    {
      "cell_type": "code",
      "source": [
        "a = soup.find('section',class_=\"m-detail--body l-person--body\").findChildren('h2')[0].get"
      ],
      "metadata": {
        "id": "BsEpNRA3vuXz"
      },
      "execution_count": null,
      "outputs": []
    },
    {
      "cell_type": "code",
      "source": [
        "soup.find('section',class_=\"m-detail--body l-person--body\").findChildren('h2')"
      ],
      "metadata": {
        "colab": {
          "base_uri": "https://localhost:8080/"
        },
        "id": "4IiqDCj-uL9c",
        "outputId": "503a7b1d-e0c0-485c-f147-b9a5ec153c02"
      },
      "execution_count": null,
      "outputs": [
        {
          "output_type": "execute_result",
          "data": {
            "text/plain": [
              "[<h2 id=\"who-is-michael-pe-a\">Who Is Michael Peña?</h2>,\n",
              " <h2 id=\"when-was-michael-pe-a-born\">When Was Michael Peña Born?</h2>,\n",
              " <h2 id=\"early-life\">Early Life</h2>,\n",
              " <h2 id=\"education\">Education</h2>,\n",
              " <h2 id=\"why-did-michael-pe-a-become-an-actor\">Why Did Michael Peña Become an Actor?</h2>,\n",
              " <h2 id=\"from-struggling-to-successful-actor\">From Struggling to Successful Actor</h2>,\n",
              " <h2 aria-level=\"2\" class=\"m-component-header--title\" role=\"heading\">READ NEXT</h2>,\n",
              " <h2 aria-level=\"2\" class=\"m-ellipsis--text m-card--header-text\" role=\"heading\">Michael Peña</h2>,\n",
              " <h2 aria-level=\"2\" class=\"m-ellipsis--text m-card--header-text\" role=\"heading\">Karol G</h2>,\n",
              " <h2 aria-level=\"2\" class=\"m-ellipsis--text m-card--header-text\" role=\"heading\">Ptibull</h2>,\n",
              " <h2 id=\"movies-and-tv-shows\">Movies and TV Shows</h2>,\n",
              " <h2 id=\"family\">Family</h2>,\n",
              " <h2 id=\"personal-life\">Personal Life</h2>]"
            ]
          },
          "metadata": {},
          "execution_count": 88
        }
      ]
    },
    {
      "cell_type": "code",
      "source": [
        "soup.find('h2',id=\"who-is-michael-pe-a\").findChildren('p')"
      ],
      "metadata": {
        "colab": {
          "base_uri": "https://localhost:8080/"
        },
        "id": "tdXcN_GI2HSv",
        "outputId": "35e7542b-42ce-486e-a775-2ea8e1b5df8d"
      },
      "execution_count": null,
      "outputs": [
        {
          "output_type": "execute_result",
          "data": {
            "text/plain": [
              "[]"
            ]
          },
          "metadata": {},
          "execution_count": 90
        }
      ]
    }
  ]
}